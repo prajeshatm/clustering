{
  "nbformat": 4,
  "nbformat_minor": 0,
  "metadata": {
    "colab": {
      "provenance": [],
      "authorship_tag": "ABX9TyPj7hcfQa10uIGb1AvwHMOt",
      "include_colab_link": true
    },
    "kernelspec": {
      "name": "python3",
      "display_name": "Python 3"
    },
    "language_info": {
      "name": "python"
    }
  },
  "cells": [
    {
      "cell_type": "markdown",
      "metadata": {
        "id": "view-in-github",
        "colab_type": "text"
      },
      "source": [
        "<a href=\"https://colab.research.google.com/github/prajeshatm/clustering/blob/main/nlpclustering.ipynb\" target=\"_parent\"><img src=\"https://colab.research.google.com/assets/colab-badge.svg\" alt=\"Open In Colab\"/></a>"
      ]
    },
    {
      "cell_type": "code",
      "execution_count": null,
      "metadata": {
        "id": "p6_D85e3zEEX",
        "colab": {
          "base_uri": "https://localhost:8080/",
          "height": 206
        },
        "outputId": "a05717d1-d5bf-48e6-afaf-1dd296c623ec"
      },
      "outputs": [
        {
          "output_type": "execute_result",
          "data": {
            "text/plain": [
              "                                       headline_text\n",
              "0  aba decides against community broadcasting lic...\n",
              "1     act fire witnesses must be aware of defamation\n",
              "2     a g calls for infrastructure protection summit\n",
              "3           air nz staff in aust strike for pay rise\n",
              "4      air nz strike to affect australian travellers"
            ],
            "text/html": [
              "\n",
              "\n",
              "  <div id=\"df-21848cbe-57fd-4157-8a8f-4d3f3340d07a\">\n",
              "    <div class=\"colab-df-container\">\n",
              "      <div>\n",
              "<style scoped>\n",
              "    .dataframe tbody tr th:only-of-type {\n",
              "        vertical-align: middle;\n",
              "    }\n",
              "\n",
              "    .dataframe tbody tr th {\n",
              "        vertical-align: top;\n",
              "    }\n",
              "\n",
              "    .dataframe thead th {\n",
              "        text-align: right;\n",
              "    }\n",
              "</style>\n",
              "<table border=\"1\" class=\"dataframe\">\n",
              "  <thead>\n",
              "    <tr style=\"text-align: right;\">\n",
              "      <th></th>\n",
              "      <th>headline_text</th>\n",
              "    </tr>\n",
              "  </thead>\n",
              "  <tbody>\n",
              "    <tr>\n",
              "      <th>0</th>\n",
              "      <td>aba decides against community broadcasting lic...</td>\n",
              "    </tr>\n",
              "    <tr>\n",
              "      <th>1</th>\n",
              "      <td>act fire witnesses must be aware of defamation</td>\n",
              "    </tr>\n",
              "    <tr>\n",
              "      <th>2</th>\n",
              "      <td>a g calls for infrastructure protection summit</td>\n",
              "    </tr>\n",
              "    <tr>\n",
              "      <th>3</th>\n",
              "      <td>air nz staff in aust strike for pay rise</td>\n",
              "    </tr>\n",
              "    <tr>\n",
              "      <th>4</th>\n",
              "      <td>air nz strike to affect australian travellers</td>\n",
              "    </tr>\n",
              "  </tbody>\n",
              "</table>\n",
              "</div>\n",
              "      <button class=\"colab-df-convert\" onclick=\"convertToInteractive('df-21848cbe-57fd-4157-8a8f-4d3f3340d07a')\"\n",
              "              title=\"Convert this dataframe to an interactive table.\"\n",
              "              style=\"display:none;\">\n",
              "\n",
              "  <svg xmlns=\"http://www.w3.org/2000/svg\" height=\"24px\"viewBox=\"0 0 24 24\"\n",
              "       width=\"24px\">\n",
              "    <path d=\"M0 0h24v24H0V0z\" fill=\"none\"/>\n",
              "    <path d=\"M18.56 5.44l.94 2.06.94-2.06 2.06-.94-2.06-.94-.94-2.06-.94 2.06-2.06.94zm-11 1L8.5 8.5l.94-2.06 2.06-.94-2.06-.94L8.5 2.5l-.94 2.06-2.06.94zm10 10l.94 2.06.94-2.06 2.06-.94-2.06-.94-.94-2.06-.94 2.06-2.06.94z\"/><path d=\"M17.41 7.96l-1.37-1.37c-.4-.4-.92-.59-1.43-.59-.52 0-1.04.2-1.43.59L10.3 9.45l-7.72 7.72c-.78.78-.78 2.05 0 2.83L4 21.41c.39.39.9.59 1.41.59.51 0 1.02-.2 1.41-.59l7.78-7.78 2.81-2.81c.8-.78.8-2.07 0-2.86zM5.41 20L4 18.59l7.72-7.72 1.47 1.35L5.41 20z\"/>\n",
              "  </svg>\n",
              "      </button>\n",
              "\n",
              "\n",
              "\n",
              "    <div id=\"df-969386c4-7d77-424e-962f-f38020a61938\">\n",
              "      <button class=\"colab-df-quickchart\" onclick=\"quickchart('df-969386c4-7d77-424e-962f-f38020a61938')\"\n",
              "              title=\"Suggest charts.\"\n",
              "              style=\"display:none;\">\n",
              "\n",
              "<svg xmlns=\"http://www.w3.org/2000/svg\" height=\"24px\"viewBox=\"0 0 24 24\"\n",
              "     width=\"24px\">\n",
              "    <g>\n",
              "        <path d=\"M19 3H5c-1.1 0-2 .9-2 2v14c0 1.1.9 2 2 2h14c1.1 0 2-.9 2-2V5c0-1.1-.9-2-2-2zM9 17H7v-7h2v7zm4 0h-2V7h2v10zm4 0h-2v-4h2v4z\"/>\n",
              "    </g>\n",
              "</svg>\n",
              "      </button>\n",
              "    </div>\n",
              "\n",
              "<style>\n",
              "  .colab-df-quickchart {\n",
              "    background-color: #E8F0FE;\n",
              "    border: none;\n",
              "    border-radius: 50%;\n",
              "    cursor: pointer;\n",
              "    display: none;\n",
              "    fill: #1967D2;\n",
              "    height: 32px;\n",
              "    padding: 0 0 0 0;\n",
              "    width: 32px;\n",
              "  }\n",
              "\n",
              "  .colab-df-quickchart:hover {\n",
              "    background-color: #E2EBFA;\n",
              "    box-shadow: 0px 1px 2px rgba(60, 64, 67, 0.3), 0px 1px 3px 1px rgba(60, 64, 67, 0.15);\n",
              "    fill: #174EA6;\n",
              "  }\n",
              "\n",
              "  [theme=dark] .colab-df-quickchart {\n",
              "    background-color: #3B4455;\n",
              "    fill: #D2E3FC;\n",
              "  }\n",
              "\n",
              "  [theme=dark] .colab-df-quickchart:hover {\n",
              "    background-color: #434B5C;\n",
              "    box-shadow: 0px 1px 3px 1px rgba(0, 0, 0, 0.15);\n",
              "    filter: drop-shadow(0px 1px 2px rgba(0, 0, 0, 0.3));\n",
              "    fill: #FFFFFF;\n",
              "  }\n",
              "</style>\n",
              "\n",
              "    <script>\n",
              "      async function quickchart(key) {\n",
              "        const containerElement = document.querySelector('#' + key);\n",
              "        const charts = await google.colab.kernel.invokeFunction(\n",
              "            'suggestCharts', [key], {});\n",
              "      }\n",
              "    </script>\n",
              "\n",
              "      <script>\n",
              "\n",
              "function displayQuickchartButton(domScope) {\n",
              "  let quickchartButtonEl =\n",
              "    domScope.querySelector('#df-969386c4-7d77-424e-962f-f38020a61938 button.colab-df-quickchart');\n",
              "  quickchartButtonEl.style.display =\n",
              "    google.colab.kernel.accessAllowed ? 'block' : 'none';\n",
              "}\n",
              "\n",
              "        displayQuickchartButton(document);\n",
              "      </script>\n",
              "      <style>\n",
              "    .colab-df-container {\n",
              "      display:flex;\n",
              "      flex-wrap:wrap;\n",
              "      gap: 12px;\n",
              "    }\n",
              "\n",
              "    .colab-df-convert {\n",
              "      background-color: #E8F0FE;\n",
              "      border: none;\n",
              "      border-radius: 50%;\n",
              "      cursor: pointer;\n",
              "      display: none;\n",
              "      fill: #1967D2;\n",
              "      height: 32px;\n",
              "      padding: 0 0 0 0;\n",
              "      width: 32px;\n",
              "    }\n",
              "\n",
              "    .colab-df-convert:hover {\n",
              "      background-color: #E2EBFA;\n",
              "      box-shadow: 0px 1px 2px rgba(60, 64, 67, 0.3), 0px 1px 3px 1px rgba(60, 64, 67, 0.15);\n",
              "      fill: #174EA6;\n",
              "    }\n",
              "\n",
              "    [theme=dark] .colab-df-convert {\n",
              "      background-color: #3B4455;\n",
              "      fill: #D2E3FC;\n",
              "    }\n",
              "\n",
              "    [theme=dark] .colab-df-convert:hover {\n",
              "      background-color: #434B5C;\n",
              "      box-shadow: 0px 1px 3px 1px rgba(0, 0, 0, 0.15);\n",
              "      filter: drop-shadow(0px 1px 2px rgba(0, 0, 0, 0.3));\n",
              "      fill: #FFFFFF;\n",
              "    }\n",
              "  </style>\n",
              "\n",
              "      <script>\n",
              "        const buttonEl =\n",
              "          document.querySelector('#df-21848cbe-57fd-4157-8a8f-4d3f3340d07a button.colab-df-convert');\n",
              "        buttonEl.style.display =\n",
              "          google.colab.kernel.accessAllowed ? 'block' : 'none';\n",
              "\n",
              "        async function convertToInteractive(key) {\n",
              "          const element = document.querySelector('#df-21848cbe-57fd-4157-8a8f-4d3f3340d07a');\n",
              "          const dataTable =\n",
              "            await google.colab.kernel.invokeFunction('convertToInteractive',\n",
              "                                                     [key], {});\n",
              "          if (!dataTable) return;\n",
              "\n",
              "          const docLinkHtml = 'Like what you see? Visit the ' +\n",
              "            '<a target=\"_blank\" href=https://colab.research.google.com/notebooks/data_table.ipynb>data table notebook</a>'\n",
              "            + ' to learn more about interactive tables.';\n",
              "          element.innerHTML = '';\n",
              "          dataTable['output_type'] = 'display_data';\n",
              "          await google.colab.output.renderOutput(dataTable, element);\n",
              "          const docLink = document.createElement('div');\n",
              "          docLink.innerHTML = docLinkHtml;\n",
              "          element.appendChild(docLink);\n",
              "        }\n",
              "      </script>\n",
              "    </div>\n",
              "  </div>\n"
            ]
          },
          "metadata": {},
          "execution_count": 1
        }
      ],
      "source": [
        "import pandas as pd\n",
        "data = pd.read_csv(\"abcnews-date-text.csv\",usecols =[\"headline_text\"],nrows=10000)\n",
        "data.head()"
      ]
    },
    {
      "cell_type": "code",
      "source": [
        "txt=data.headline_text\n",
        "txt"
      ],
      "metadata": {
        "id": "FmY15NEZ0LE3",
        "colab": {
          "base_uri": "https://localhost:8080/"
        },
        "outputId": "9b1f7c93-75b6-4b5f-d381-660bdaa772ee"
      },
      "execution_count": null,
      "outputs": [
        {
          "output_type": "execute_result",
          "data": {
            "text/plain": [
              "0       aba decides against community broadcasting lic...\n",
              "1          act fire witnesses must be aware of defamation\n",
              "2          a g calls for infrastructure protection summit\n",
              "3                air nz staff in aust strike for pay rise\n",
              "4           air nz strike to affect australian travellers\n",
              "                              ...                        \n",
              "9995    us units attack palace as fighting rages in heart\n",
              "9996     vasco win 10 goal thriller in brazil on edmundos\n",
              "9997                         vic bushfires inquiry begins\n",
              "9998               vic govt plan aims to reduce water use\n",
              "9999            vic govt urged to green light marina plan\n",
              "Name: headline_text, Length: 10000, dtype: object"
            ]
          },
          "metadata": {},
          "execution_count": 2
        }
      ]
    },
    {
      "cell_type": "code",
      "source": [
        "txt=txt.str.replace('[^a-zA-Z0-9]+',' ')\n",
        "txt"
      ],
      "metadata": {
        "id": "dvpgBFMW2fCh",
        "colab": {
          "base_uri": "https://localhost:8080/"
        },
        "outputId": "e551c42e-6c22-46ab-8c5f-cff5a33d826f"
      },
      "execution_count": null,
      "outputs": [
        {
          "output_type": "stream",
          "name": "stderr",
          "text": [
            "<ipython-input-3-4e7b82e11b12>:1: FutureWarning: The default value of regex will change from True to False in a future version.\n",
            "  txt=txt.str.replace('[^a-zA-Z0-9]+',' ')\n"
          ]
        },
        {
          "output_type": "execute_result",
          "data": {
            "text/plain": [
              "0       aba decides against community broadcasting lic...\n",
              "1          act fire witnesses must be aware of defamation\n",
              "2          a g calls for infrastructure protection summit\n",
              "3                air nz staff in aust strike for pay rise\n",
              "4           air nz strike to affect australian travellers\n",
              "                              ...                        \n",
              "9995    us units attack palace as fighting rages in heart\n",
              "9996     vasco win 10 goal thriller in brazil on edmundos\n",
              "9997                         vic bushfires inquiry begins\n",
              "9998               vic govt plan aims to reduce water use\n",
              "9999            vic govt urged to green light marina plan\n",
              "Name: headline_text, Length: 10000, dtype: object"
            ]
          },
          "metadata": {},
          "execution_count": 3
        }
      ]
    },
    {
      "cell_type": "code",
      "source": [
        "from nltk.stem import SnowballStemmer\n",
        "stemmer=SnowballStemmer('english')\n",
        "import nltk\n",
        "nltk.download('punkt')\n",
        "from nltk.tokenize import word_tokenize\n",
        "txt=txt.apply(lambda x:[stemmer.stem(i.lower()) for i in word_tokenize(x)]).apply(lambda x:' '.join(x))\n",
        "txt"
      ],
      "metadata": {
        "id": "egfyC-sc2paS",
        "colab": {
          "base_uri": "https://localhost:8080/"
        },
        "outputId": "02fe98e4-712b-4698-9293-9c31a5cf0631"
      },
      "execution_count": null,
      "outputs": [
        {
          "output_type": "stream",
          "name": "stderr",
          "text": [
            "[nltk_data] Downloading package punkt to /root/nltk_data...\n",
            "[nltk_data]   Unzipping tokenizers/punkt.zip.\n"
          ]
        },
        {
          "output_type": "execute_result",
          "data": {
            "text/plain": [
              "0          aba decid against communiti broadcast licenc\n",
              "1                    act fire wit must be awar of defam\n",
              "2             a g call for infrastructur protect summit\n",
              "3              air nz staff in aust strike for pay rise\n",
              "4             air nz strike to affect australian travel\n",
              "                             ...                       \n",
              "9995        us unit attack palac as fight rage in heart\n",
              "9996    vasco win 10 goal thriller in brazil on edmundo\n",
              "9997                          vic bushfir inquiri begin\n",
              "9998               vic govt plan aim to reduc water use\n",
              "9999            vic govt urg to green light marina plan\n",
              "Name: headline_text, Length: 10000, dtype: object"
            ]
          },
          "metadata": {},
          "execution_count": 4
        }
      ]
    },
    {
      "cell_type": "code",
      "source": [
        "from nltk.corpus import stopwords\n",
        "nltk.download('stopwords')\n",
        "stop=stopwords.words('english')\n",
        "txt=txt.apply(lambda x:[i for i in word_tokenize(x) if i not in stop]).apply(lambda x:' '.join(x))\n",
        "txt"
      ],
      "metadata": {
        "id": "x39Gnufi3PUN",
        "colab": {
          "base_uri": "https://localhost:8080/"
        },
        "outputId": "0fd7f031-f042-428b-d0e5-2eff68738387"
      },
      "execution_count": null,
      "outputs": [
        {
          "output_type": "stream",
          "name": "stderr",
          "text": [
            "[nltk_data] Downloading package stopwords to /root/nltk_data...\n",
            "[nltk_data]   Unzipping corpora/stopwords.zip.\n"
          ]
        },
        {
          "output_type": "execute_result",
          "data": {
            "text/plain": [
              "0            aba decid communiti broadcast licenc\n",
              "1                    act fire wit must awar defam\n",
              "2             g call infrastructur protect summit\n",
              "3               air nz staff aust strike pay rise\n",
              "4          air nz strike affect australian travel\n",
              "                          ...                    \n",
              "9995        us unit attack palac fight rage heart\n",
              "9996    vasco win 10 goal thriller brazil edmundo\n",
              "9997                    vic bushfir inquiri begin\n",
              "9998            vic govt plan aim reduc water use\n",
              "9999         vic govt urg green light marina plan\n",
              "Name: headline_text, Length: 10000, dtype: object"
            ]
          },
          "metadata": {},
          "execution_count": 5
        }
      ]
    },
    {
      "cell_type": "code",
      "source": [
        "txt=txt.apply(lambda x:' '.join([w for w in word_tokenize(x) if len(w)>=3]))\n",
        "txt"
      ],
      "metadata": {
        "id": "h9VKWwCK3hTv",
        "colab": {
          "base_uri": "https://localhost:8080/"
        },
        "outputId": "83a34b79-98ca-451b-b888-805dc3530f4d"
      },
      "execution_count": null,
      "outputs": [
        {
          "output_type": "execute_result",
          "data": {
            "text/plain": [
              "0         aba decid communiti broadcast licenc\n",
              "1                 act fire wit must awar defam\n",
              "2            call infrastructur protect summit\n",
              "3               air staff aust strike pay rise\n",
              "4          air strike affect australian travel\n",
              "                         ...                  \n",
              "9995        unit attack palac fight rage heart\n",
              "9996    vasco win goal thriller brazil edmundo\n",
              "9997                 vic bushfir inquiri begin\n",
              "9998         vic govt plan aim reduc water use\n",
              "9999      vic govt urg green light marina plan\n",
              "Name: headline_text, Length: 10000, dtype: object"
            ]
          },
          "metadata": {},
          "execution_count": 6
        }
      ]
    },
    {
      "cell_type": "code",
      "source": [
        "from sklearn.feature_extraction.text import TfidfVectorizer\n",
        "vec=TfidfVectorizer()\n",
        "data_vec=vec.fit_transform(txt)\n",
        "print(data_vec)"
      ],
      "metadata": {
        "id": "rEFdjQvA3rIZ",
        "colab": {
          "base_uri": "https://localhost:8080/"
        },
        "outputId": "f0044260-eeee-4305-fa57-d72ece194260"
      },
      "execution_count": null,
      "outputs": [
        {
          "output_type": "stream",
          "name": "stdout",
          "text": [
            "  (0, 3644)\t0.47027473375751233\n",
            "  (0, 943)\t0.47799782429829546\n",
            "  (0, 1443)\t0.35278224419585436\n",
            "  (0, 1768)\t0.40673400368770146\n",
            "  (0, 146)\t0.5103644709222088\n",
            "  (1, 1782)\t0.4921756808813915\n",
            "  (1, 560)\t0.4729217098434841\n",
            "  (1, 4163)\t0.38964572098383743\n",
            "  (1, 6935)\t0.4256166321182425\n",
            "  (1, 2449)\t0.2871157610862832\n",
            "  (1, 198)\t0.34452777801914436\n",
            "  (2, 6082)\t0.5074623354708966\n",
            "  (2, 4891)\t0.49596149094917574\n",
            "  (2, 3211)\t0.603843955663636\n",
            "  (2, 1060)\t0.3631482545495525\n",
            "  (3, 5275)\t0.4032865311963851\n",
            "  (3, 4573)\t0.40863442085309437\n",
            "  (3, 6025)\t0.40126174130834125\n",
            "  (3, 538)\t0.3808058275033573\n",
            "  (3, 5921)\t0.4671270723556268\n",
            "  (3, 269)\t0.38229062089434696\n",
            "  (4, 6443)\t0.4946246151090834\n",
            "  (4, 542)\t0.4138785263344187\n",
            "  (4, 236)\t0.49773233288998325\n",
            "  (4, 6025)\t0.41987466825482267\n",
            "  :\t:\n",
            "  (9995, 6601)\t0.38380819329854754\n",
            "  (9996, 2123)\t0.4880040186486571\n",
            "  (9996, 6679)\t0.4880040186486571\n",
            "  (9996, 903)\t0.40059219855433287\n",
            "  (9996, 6304)\t0.39202641592575405\n",
            "  (9996, 2727)\t0.3813796025454478\n",
            "  (9996, 6914)\t0.2531697730804615\n",
            "  (9997, 3229)\t0.5193646483470967\n",
            "  (9997, 6710)\t0.4810966046840714\n",
            "  (9997, 703)\t0.49556769556074637\n",
            "  (9997, 1021)\t0.5032087818444412\n",
            "  (9998, 5086)\t0.46718194238103267\n",
            "  (9998, 268)\t0.4345799928811385\n",
            "  (9998, 6650)\t0.4032674220127842\n",
            "  (9998, 6710)\t0.3711886071757186\n",
            "  (9998, 2755)\t0.29434856873657134\n",
            "  (9998, 6817)\t0.34099532358795165\n",
            "  (9998, 4689)\t0.29926038180906656\n",
            "  (9999, 3838)\t0.538148250649764\n",
            "  (9999, 6710)\t0.3546933034220573\n",
            "  (9999, 3657)\t0.43701976320063946\n",
            "  (9999, 2788)\t0.36020545434674583\n",
            "  (9999, 2755)\t0.28126797047223207\n",
            "  (9999, 6640)\t0.32088817910312173\n",
            "  (9999, 4689)\t0.28596150677910004\n"
          ]
        }
      ]
    },
    {
      "cell_type": "code",
      "source": [
        "import matplotlib.pyplot as plt\n",
        "\n",
        "from sklearn.cluster import KMeans\n",
        "wcss = []\n",
        "for i in range(1,11):\n",
        "    kmeans = KMeans(n_clusters=i,init='k-means++',random_state=0)\n",
        "    kmeans.fit(data_vec)\n",
        "    wcss.append(kmeans.inertia_)\n",
        "plt.plot(range(1,11),wcss)\n",
        "plt.title('The Elbow Method')\n",
        "plt.xlabel('Number of clusters')\n",
        "plt.ylabel('WCSS')\n",
        "plt.savefig('elbow.png')\n",
        "plt.show()"
      ],
      "metadata": {
        "id": "CMd-Hr2c4A4E",
        "colab": {
          "base_uri": "https://localhost:8080/",
          "height": 472
        },
        "outputId": "376da8fc-ae8f-455c-83b5-f4e526f4eed1"
      },
      "execution_count": null,
      "outputs": [
        {
          "output_type": "display_data",
          "data": {
            "text/plain": [
              "<Figure size 640x480 with 1 Axes>"
            ],
            "image/png": "[encoded data removed]"
          },
          "metadata": {}
        }
      ]
    },
    {
      "cell_type": "code",
      "source": [
        "kmeans = KMeans(n_clusters = 8,init='k-means++',random_state=0)\n",
        "y=kmeans.fit_predict(data_vec)\n",
        "y"
      ],
      "metadata": {
        "id": "no8BxAEQ4WIJ",
        "colab": {
          "base_uri": "https://localhost:8080/"
        },
        "outputId": "1f1fb249-d72c-45a6-9a95-2b609319d009"
      },
      "execution_count": null,
      "outputs": [
        {
          "output_type": "execute_result",
          "data": {
            "text/plain": [
              "array([2, 2, 4, ..., 2, 5, 5], dtype=int32)"
            ]
          },
          "metadata": {},
          "execution_count": 15
        }
      ]
    },
    {
      "cell_type": "code",
      "source": [
        "data['cluster']=y\n",
        "data"
      ],
      "metadata": {
        "id": "SJk2EhGZ4fAj",
        "colab": {
          "base_uri": "https://localhost:8080/",
          "height": 423
        },
        "outputId": "5cc8660a-7b22-4eac-89bc-c4221e31b4f9"
      },
      "execution_count": null,
      "outputs": [
        {
          "output_type": "execute_result",
          "data": {
            "text/plain": [
              "                                          headline_text  cluster\n",
              "0     aba decides against community broadcasting lic...        2\n",
              "1        act fire witnesses must be aware of defamation        2\n",
              "2        a g calls for infrastructure protection summit        4\n",
              "3              air nz staff in aust strike for pay rise        2\n",
              "4         air nz strike to affect australian travellers        2\n",
              "...                                                 ...      ...\n",
              "9995  us units attack palace as fighting rages in heart        2\n",
              "9996   vasco win 10 goal thriller in brazil on edmundos        2\n",
              "9997                       vic bushfires inquiry begins        2\n",
              "9998             vic govt plan aims to reduce water use        5\n",
              "9999          vic govt urged to green light marina plan        5\n",
              "\n",
              "[10000 rows x 2 columns]"
            ],
            "text/html": [
              "\n",
              "\n",
              "  <div id=\"df-57f60f1c-2848-46a1-944b-a7ed20167aba\">\n",
              "    <div class=\"colab-df-container\">\n",
              "      <div>\n",
              "<style scoped>\n",
              "    .dataframe tbody tr th:only-of-type {\n",
              "        vertical-align: middle;\n",
              "    }\n",
              "\n",
              "    .dataframe tbody tr th {\n",
              "        vertical-align: top;\n",
              "    }\n",
              "\n",
              "    .dataframe thead th {\n",
              "        text-align: right;\n",
              "    }\n",
              "</style>\n",
              "<table border=\"1\" class=\"dataframe\">\n",
              "  <thead>\n",
              "    <tr style=\"text-align: right;\">\n",
              "      <th></th>\n",
              "      <th>headline_text</th>\n",
              "      <th>cluster</th>\n",
              "    </tr>\n",
              "  </thead>\n",
              "  <tbody>\n",
              "    <tr>\n",
              "      <th>0</th>\n",
              "      <td>aba decides against community broadcasting lic...</td>\n",
              "      <td>2</td>\n",
              "    </tr>\n",
              "    <tr>\n",
              "      <th>1</th>\n",
              "      <td>act fire witnesses must be aware of defamation</td>\n",
              "      <td>2</td>\n",
              "    </tr>\n",
              "    <tr>\n",
              "      <th>2</th>\n",
              "      <td>a g calls for infrastructure protection summit</td>\n",
              "      <td>4</td>\n",
              "    </tr>\n",
              "    <tr>\n",
              "      <th>3</th>\n",
              "      <td>air nz staff in aust strike for pay rise</td>\n",
              "      <td>2</td>\n",
              "    </tr>\n",
              "    <tr>\n",
              "      <th>4</th>\n",
              "      <td>air nz strike to affect australian travellers</td>\n",
              "      <td>2</td>\n",
              "    </tr>\n",
              "    <tr>\n",
              "      <th>...</th>\n",
              "      <td>...</td>\n",
              "      <td>...</td>\n",
              "    </tr>\n",
              "    <tr>\n",
              "      <th>9995</th>\n",
              "      <td>us units attack palace as fighting rages in heart</td>\n",
              "      <td>2</td>\n",
              "    </tr>\n",
              "    <tr>\n",
              "      <th>9996</th>\n",
              "      <td>vasco win 10 goal thriller in brazil on edmundos</td>\n",
              "      <td>2</td>\n",
              "    </tr>\n",
              "    <tr>\n",
              "      <th>9997</th>\n",
              "      <td>vic bushfires inquiry begins</td>\n",
              "      <td>2</td>\n",
              "    </tr>\n",
              "    <tr>\n",
              "      <th>9998</th>\n",
              "      <td>vic govt plan aims to reduce water use</td>\n",
              "      <td>5</td>\n",
              "    </tr>\n",
              "    <tr>\n",
              "      <th>9999</th>\n",
              "      <td>vic govt urged to green light marina plan</td>\n",
              "      <td>5</td>\n",
              "    </tr>\n",
              "  </tbody>\n",
              "</table>\n",
              "<p>10000 rows × 2 columns</p>\n",
              "</div>\n",
              "      <button class=\"colab-df-convert\" onclick=\"convertToInteractive('df-57f60f1c-2848-46a1-944b-a7ed20167aba')\"\n",
              "              title=\"Convert this dataframe to an interactive table.\"\n",
              "              style=\"display:none;\">\n",
              "\n",
              "  <svg xmlns=\"http://www.w3.org/2000/svg\" height=\"24px\"viewBox=\"0 0 24 24\"\n",
              "       width=\"24px\">\n",
              "    <path d=\"M0 0h24v24H0V0z\" fill=\"none\"/>\n",
              "    <path d=\"M18.56 5.44l.94 2.06.94-2.06 2.06-.94-2.06-.94-.94-2.06-.94 2.06-2.06.94zm-11 1L8.5 8.5l.94-2.06 2.06-.94-2.06-.94L8.5 2.5l-.94 2.06-2.06.94zm10 10l.94 2.06.94-2.06 2.06-.94-2.06-.94-.94-2.06-.94 2.06-2.06.94z\"/><path d=\"M17.41 7.96l-1.37-1.37c-.4-.4-.92-.59-1.43-.59-.52 0-1.04.2-1.43.59L10.3 9.45l-7.72 7.72c-.78.78-.78 2.05 0 2.83L4 21.41c.39.39.9.59 1.41.59.51 0 1.02-.2 1.41-.59l7.78-7.78 2.81-2.81c.8-.78.8-2.07 0-2.86zM5.41 20L4 18.59l7.72-7.72 1.47 1.35L5.41 20z\"/>\n",
              "  </svg>\n",
              "      </button>\n",
              "\n",
              "\n",
              "\n",
              "    <div id=\"df-b39d0a3c-d617-4f14-9e5c-c572f30cd097\">\n",
              "      <button class=\"colab-df-quickchart\" onclick=\"quickchart('df-b39d0a3c-d617-4f14-9e5c-c572f30cd097')\"\n",
              "              title=\"Suggest charts.\"\n",
              "              style=\"display:none;\">\n",
              "\n",
              "<svg xmlns=\"http://www.w3.org/2000/svg\" height=\"24px\"viewBox=\"0 0 24 24\"\n",
              "     width=\"24px\">\n",
              "    <g>\n",
              "        <path d=\"M19 3H5c-1.1 0-2 .9-2 2v14c0 1.1.9 2 2 2h14c1.1 0 2-.9 2-2V5c0-1.1-.9-2-2-2zM9 17H7v-7h2v7zm4 0h-2V7h2v10zm4 0h-2v-4h2v4z\"/>\n",
              "    </g>\n",
              "</svg>\n",
              "      </button>\n",
              "    </div>\n",
              "\n",
              "<style>\n",
              "  .colab-df-quickchart {\n",
              "    background-color: #E8F0FE;\n",
              "    border: none;\n",
              "    border-radius: 50%;\n",
              "    cursor: pointer;\n",
              "    display: none;\n",
              "    fill: #1967D2;\n",
              "    height: 32px;\n",
              "    padding: 0 0 0 0;\n",
              "    width: 32px;\n",
              "  }\n",
              "\n",
              "  .colab-df-quickchart:hover {\n",
              "    background-color: #E2EBFA;\n",
              "    box-shadow: 0px 1px 2px rgba(60, 64, 67, 0.3), 0px 1px 3px 1px rgba(60, 64, 67, 0.15);\n",
              "    fill: #174EA6;\n",
              "  }\n",
              "\n",
              "  [theme=dark] .colab-df-quickchart {\n",
              "    background-color: #3B4455;\n",
              "    fill: #D2E3FC;\n",
              "  }\n",
              "\n",
              "  [theme=dark] .colab-df-quickchart:hover {\n",
              "    background-color: #434B5C;\n",
              "    box-shadow: 0px 1px 3px 1px rgba(0, 0, 0, 0.15);\n",
              "    filter: drop-shadow(0px 1px 2px rgba(0, 0, 0, 0.3));\n",
              "    fill: #FFFFFF;\n",
              "  }\n",
              "</style>\n",
              "\n",
              "    <script>\n",
              "      async function quickchart(key) {\n",
              "        const containerElement = document.querySelector('#' + key);\n",
              "        const charts = await google.colab.kernel.invokeFunction(\n",
              "            'suggestCharts', [key], {});\n",
              "      }\n",
              "    </script>\n",
              "\n",
              "      <script>\n",
              "\n",
              "function displayQuickchartButton(domScope) {\n",
              "  let quickchartButtonEl =\n",
              "    domScope.querySelector('#df-b39d0a3c-d617-4f14-9e5c-c572f30cd097 button.colab-df-quickchart');\n",
              "  quickchartButtonEl.style.display =\n",
              "    google.colab.kernel.accessAllowed ? 'block' : 'none';\n",
              "}\n",
              "\n",
              "        displayQuickchartButton(document);\n",
              "      </script>\n",
              "      <style>\n",
              "    .colab-df-container {\n",
              "      display:flex;\n",
              "      flex-wrap:wrap;\n",
              "      gap: 12px;\n",
              "    }\n",
              "\n",
              "    .colab-df-convert {\n",
              "      background-color: #E8F0FE;\n",
              "      border: none;\n",
              "      border-radius: 50%;\n",
              "      cursor: pointer;\n",
              "      display: none;\n",
              "      fill: #1967D2;\n",
              "      height: 32px;\n",
              "      padding: 0 0 0 0;\n",
              "      width: 32px;\n",
              "    }\n",
              "\n",
              "    .colab-df-convert:hover {\n",
              "      background-color: #E2EBFA;\n",
              "      box-shadow: 0px 1px 2px rgba(60, 64, 67, 0.3), 0px 1px 3px 1px rgba(60, 64, 67, 0.15);\n",
              "      fill: #174EA6;\n",
              "    }\n",
              "\n",
              "    [theme=dark] .colab-df-convert {\n",
              "      background-color: #3B4455;\n",
              "      fill: #D2E3FC;\n",
              "    }\n",
              "\n",
              "    [theme=dark] .colab-df-convert:hover {\n",
              "      background-color: #434B5C;\n",
              "      box-shadow: 0px 1px 3px 1px rgba(0, 0, 0, 0.15);\n",
              "      filter: drop-shadow(0px 1px 2px rgba(0, 0, 0, 0.3));\n",
              "      fill: #FFFFFF;\n",
              "    }\n",
              "  </style>\n",
              "\n",
              "      <script>\n",
              "        const buttonEl =\n",
              "          document.querySelector('#df-57f60f1c-2848-46a1-944b-a7ed20167aba button.colab-df-convert');\n",
              "        buttonEl.style.display =\n",
              "          google.colab.kernel.accessAllowed ? 'block' : 'none';\n",
              "\n",
              "        async function convertToInteractive(key) {\n",
              "          const element = document.querySelector('#df-57f60f1c-2848-46a1-944b-a7ed20167aba');\n",
              "          const dataTable =\n",
              "            await google.colab.kernel.invokeFunction('convertToInteractive',\n",
              "                                                     [key], {});\n",
              "          if (!dataTable) return;\n",
              "\n",
              "          const docLinkHtml = 'Like what you see? Visit the ' +\n",
              "            '<a target=\"_blank\" href=https://colab.research.google.com/notebooks/data_table.ipynb>data table notebook</a>'\n",
              "            + ' to learn more about interactive tables.';\n",
              "          element.innerHTML = '';\n",
              "          dataTable['output_type'] = 'display_data';\n",
              "          await google.colab.output.renderOutput(dataTable, element);\n",
              "          const docLink = document.createElement('div');\n",
              "          docLink.innerHTML = docLinkHtml;\n",
              "          element.appendChild(docLink);\n",
              "        }\n",
              "      </script>\n",
              "    </div>\n",
              "  </div>\n"
            ]
          },
          "metadata": {},
          "execution_count": 16
        }
      ]
    },
    {
      "cell_type": "code",
      "source": [
        "data['cluster'].value_counts()"
      ],
      "metadata": {
        "id": "vxH0FPSr4uks",
        "colab": {
          "base_uri": "https://localhost:8080/"
        },
        "outputId": "e6ef2fc8-402e-4844-cba9-e7eaec7ed110"
      },
      "execution_count": null,
      "outputs": [
        {
          "output_type": "execute_result",
          "data": {
            "text/plain": [
              "2    7724\n",
              "6     387\n",
              "0     369\n",
              "5     365\n",
              "7     359\n",
              "4     338\n",
              "3     255\n",
              "1     203\n",
              "Name: cluster, dtype: int64"
            ]
          },
          "metadata": {},
          "execution_count": 17
        }
      ]
    },
    {
      "cell_type": "code",
      "source": [
        "#Machine learning\n",
        "  #past data\n",
        "  #Model->algo+data\n",
        "\n",
        "#Datatypes\n",
        "   #numeric\n",
        "      #continuous-height,\n",
        "      #discrete-\n",
        "   #categorial\n",
        "     #ordinal-> grade\n",
        "     #nominal->gender\n",
        "\n",
        "\n",
        "\n",
        "#mL Models\n",
        "  #Supervised model-input,output\n",
        "     #classification\n",
        "          #KNN\n",
        "            #K\n",
        "            #euclidean distance\n",
        "\n",
        "          #SVC\n",
        "            #support vectors\n",
        "            #MMH\n",
        "            #rbf\n",
        "            #poly\n",
        "            #linear\n",
        "\n",
        "\n",
        "          #NB\n",
        "             #Bayes Theorem\n",
        "             #conditional Probability p(A/B)\n",
        "             #P(A/B)=P(A).P(B/A)/P(B)\n",
        "             #Gaussian\n",
        "             #Multinomial\n",
        "             #Bernouli\n",
        "\n",
        "          #DT\n",
        "             #tree\n",
        "             #Best split attribut-IG\n",
        "             #IG -entropy,gini index\n",
        "             #entropy -equal pro-max\n",
        "             #      0-pure dataset-same class\n",
        "\n",
        "             #overfitting\n",
        "                  #train high\n",
        "                  #test  less\n",
        "             #  pruning\n",
        "             #underfitting\n",
        "                  #less\n",
        "                  #less\n",
        "\n",
        "          #RF\n",
        "          #AB\n",
        "\n",
        "\n",
        "     #Regression\n",
        "\n",
        "  #Unsupervised model-input\n",
        "\n",
        "\n",
        "\n",
        "\n",
        "\n"
      ],
      "metadata": {
        "id": "LO3ftgmfu8E3"
      },
      "execution_count": null,
      "outputs": []
    }
  ]
}